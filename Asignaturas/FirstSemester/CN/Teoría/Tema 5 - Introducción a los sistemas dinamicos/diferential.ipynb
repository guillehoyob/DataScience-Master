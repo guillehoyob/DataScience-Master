{
 "cells": [
  {
   "cell_type": "code",
   "execution_count": 2,
   "metadata": {
    "hide_input": true
   },
   "outputs": [],
   "source": [
    "\n",
    "import numpy as np\n",
    "import matplotlib.pyplot as plt\n",
    "import scipy.io.wavfile  as wave\n"
   ]
  },
  {
   "cell_type": "markdown",
   "metadata": {},
   "source": [
    "$\\renewcommand{\\vec}[1]{\\mathbf{#1}}$\n",
    "\n",
    "## Objetivos\n",
    "\n",
    "En este capítulo introduciremos los sistemas dinámicos y revisaremos algunos de los métodos para resolver algunos tipos de ecuaciones diferenciales ordinarias.\n",
    "\n",
    "Estas notas son una breve introducción a la teoría que se utilizará en las simulaciones, esta muy lejos de ser un estudio completo sobre ecuaciones diferenciales\n",
    "\n",
    "---------\n",
    "Al completar este capítulo, el lector deberá poder\n",
    "\n",
    "* Resolver determinadas ecuaciones diferenciales de primer orden tanto analíticamente, gráficamente como numéricamente.\n",
    "* Entender el concepto de punto crítico y su estabilidad.\n",
    "* Aplicar la teoría a diferentes modelos sencillos e interpretar las soluciones en términos físicos\n",
    "* Comprender el teorema de existencia y unicidad y sus implicaciones.\n",
    "* Entender el concepto de bifurcación y aplicarlo a los sistemas unidimensionales. \n",
    "\n",
    "\n",
    "## Ecuaciones diferenciales ordinarias (ODE)\n",
    "\n",
    "### Introducción a los sistemas dinámicos\n",
    "\n",
    "1. Modelos dinámicos:\n",
    "\n",
    "  * Idealmente, *modelo algebraico* (explícito o implícito) \n",
    " \\begin{align}\n",
    "x(t)  & = \\frac{K}{1 + \\left[ \\frac{K-x_0}{x_0} \\right]\n",
    "e^{-r t} } \\\\\n",
    "g( x, t)  & = 0 \\\\\n",
    "t & =  \\log \\left| \\frac{ \\csc x_0 + \\cot x_0}{ \\csc x + \\cot x}   \\right|\n",
    "\\end{align}\n",
    " \n",
    "  * No es fácil llegar a determinar las ecuaciones algebraicas para las variables de estado de un sistema mediante la observación/experimentación del mismo.  \n",
    "  * ¿Qué puedo hacer? Observar el valor de las variables en diferentes instantes de tiempo y construir un modelo que *describa la variación de las variables de estado del sistema en un intervalo diferencial de tiempo*. Por ejemplo, un sistema de ecuaciones diferenciales ordinarias (ODE) describe la *velocidad* (*rate*, ritmo de variación,  ...) de las variables  $\\frac{d\\vec{x}}{dt} = \\vec{f}(\\vec{x}, \\vec{a})$. La solución de las ecuaciones diferenciales es un sistema de ecuación algebraica (*o equivalente*).  \n",
    "\n",
    "    \\begin{align}\n",
    "\\lim_{\\delta t\\to 0} \n",
    "    \\frac{\\Delta x}{\\delta t}  = \n",
    " \\lim_{\\delta t\\to 0} \n",
    "    \\frac{\\vec{x} (t+ \\Delta t) - \\vec{x}(t) }{\\delta t}=\n",
    "    \\frac{dx}{dt} &= \\vec{f}(\\vec{x}, t, \\vec{a})  \n",
    "    \\end{align}\n",
    "   * Un modelo con mas de una variable de estado se representa por un sistema dinámico de dimensión $n$\n",
    "    \\begin{align}\n",
    "            \\dot{x_{0}} &= f_0 (x_0,  \\cdots, x_n, t, \\vec{a}) \\\\\n",
    "            &\\vdots\\\\\n",
    "    \\dot{x_{n}} &= f_n (x_0,  \\cdots, x_n, t, \\vec{a})\n",
    "        \\end{align}\n",
    "      donde $x_0, \\cdots, x_n$ representan a las variables de estado del sistema dinámico.Los puntos representan derivadas totales respecto a la variable independiente (en nuestros modelos será el tiempo $t$), i.e. $\\frac{dx}{dt} = \\dot{x}$. \n",
    "     Y las funciones $f_0(\\cdot), \\cdots, f_n(\\cdot)$ junto con los parámetros $\\vec{a}$ describen las interacciones entre las variables. \n",
    "\n",
    "   * El sistema de ODE anterior se escribirá de forma mas compacta  como \n",
    "$$\n",
    " \\vec{\\dot x} = \\vec{f}( \\vec{x}, \\vec{a}, t)\n",
    "$$\n",
    "\n",
    "   * Cuando el modelo **no** depende explícitamente del tiempo, i.e.,$\n",
    " \\vec{\\dot x} = \\vec{f}( \\vec{x}, \\vec{a})\n",
    "$ se dice que el modelo es **autónomo**.  \n",
    "\n",
    "\n",
    "2. Solución del modelo dinámico:\n",
    "\n",
    "  * El **teorema de existencia y unicidad** de las soluciones nos asegura que si *el modelo es razonable* (las funciones $f_i$ y sus derivadas parciales son continuas, ...,) la solución del modelo existe y es única para unas  condiciones iniciales dadas. \n",
    "  Los modelos son deterministas: si conocemos las condiciones iniciales, conocemos el estado del sistema para todo tiempo $t$.\n",
    "    \n",
    "   * *Formalmente* la solución de un modelo dinámico es un sistema de ecuaciones algebraicas\n",
    "   \\begin{align*}\n",
    "   x_{0} &= x_0(t) \\\\\n",
    "   &\\vdots\\\\\n",
    "    x_{n} &= x_n(t) \\\\\n",
    "    \\end{align*}\n",
    "     donde las funciones $x_0(t), \\cdots, x_n(t)$ determinan el valor de las variables de estado para todo tiempo $t$. \n",
    "\n",
    "   * Las ecuaciones algebraicas anteriores describen la **trayectoria** de un punto de coordenadas $(x_0, \\cdots, x_n)$ en un espacio n-dimensional. A este espacio se denomina **espacio de fase (phase space)** del sistema. La trayectoria representa la evolución temporal del sistema. \n",
    "\n",
    "   * El espacio de fases está *completamente cubierto* de trayectorias. Cada trayectoria representa la evolución del sistema a partir de unas determinadas condiciones iniciales del sistema.\n",
    "   \n",
    "   * Dado que para unas determinada condiciones iniciales la solución del sistema de ODE es única (**teorema de unicidad de las soluciones**) las trayectorias no se pueden cruzar. "
   ]
  },
  {
   "cell_type": "markdown",
   "metadata": {},
   "source": [
    "<img src='./imagenes/f122_trajec.jpg' width='300' height='300'/>"
   ]
  },
  {
   "cell_type": "markdown",
   "metadata": {},
   "source": [
    "3. Bifurcaciones del modelo\n",
    "\n",
    "  * Estudian el comportamiento de las soluciones frente a variaciones de los parámetros del modelo."
   ]
  },
  {
   "cell_type": "markdown",
   "metadata": {},
   "source": [
    "### Ejemplos de sistemas dinámicos"
   ]
  },
  {
   "cell_type": "markdown",
   "metadata": {},
   "source": [
    "\\begin{example}\n",
    "\n",
    "Modelar el movimiento de un tren sabiendo que su velocidad $r$ es constante y que en el instante $t=0$ su posición es $x_0$\n",
    "\n",
    "\\end{example}\n",
    "\n",
    "* La variable de estado será la posición del tren\n",
    "$$\n",
    "\\dot x = f(x) = r\n",
    "$$\n",
    "\n",
    "* El modelo debe ser dimensionalmente correcto: en este caso $x$ tiene unidades de longitud, por tanto $r$ tiene unidades de $\\mbox{longitud} \\, / \\,  \\mbox{tiempo} $.\n",
    "\n",
    "* Este modelo es unidimensional, lineal y autónomo.\n",
    "\n",
    "* La solución del modelo $x=x(t)$ es monótona. ¿Por qué? Si tenemos en cuenta la definición de derivada\n",
    "\\begin{align}\n",
    "\\dot x &= \\frac{dx}{dt} = \\lim_{\\Delta t \\to 0} \\frac{\\Delta x}{\\Delta t} \n",
    "\\end{align}\n",
    "podems analizar la evolución temporal de $x$ *pasito a pasito*,i.e, en incrementos de tiempo $\\delta t$ pequeños. Si conocemos el valor de $x$ en un determinado instante de tiempo $t_0$, $x_0= x(t_0)$, conocemos su valor en un instante de tiempo *diferencialmente pequeño* posterior $\\delta t$. \n",
    "\\begin{align}\n",
    " \\lim_{\\delta t \\to 0} \\frac{ x(t_0 + \\delta t) - x(t_0) }{\\delta t} \\simeq f(x_0)\n",
    "\\end{align}\n",
    "Despejando en la ecuación anterior\n",
    "\\begin{align}\n",
    " x(t_0 + \\delta t) \\simeq x(t_0 ) + f(x_0) \\,  \\delta t\n",
    "\\end{align}\n",
    "En nuestro modelo $f(x)$ es constante, $ f(x) = r$\n",
    "\\begin{align}\n",
    " x(t_0 + \\delta t) \\simeq  x(t_0 ) + r \\, \\delta t\n",
    "\\end{align}\n",
    "Observamos que el valor de $x$ se incrementa respecto a su posición inicial $x(t_0)$  si $r >0$, y decrece si $r  <0$.\n",
    "\n",
    "* Su solución es analítica: se puede hallar con el método de **separación de variables** (ver mas adelante) \n",
    "$$\n",
    "\\int dx = \\int r dt\n",
    "$$\n",
    "* Todas las ecuaciones de la forma  $x = r t + c$ son soluciones del modelo. Una vez que se establecen las condiciones iniciales la solución de la ODE es única\n",
    "$$\n",
    "x(t) = r t + x_0\n",
    "$$"
   ]
  },
  {
   "cell_type": "markdown",
   "metadata": {},
   "source": [
    "\\begin{example}**: Modelos de crecimientos de poblaciones**\n",
    "\n",
    "Modelar el crecimiento de una población de organismos (bacterias, virus, tumores...) sabiendo que las condiciones iniciales son $x(0) = x_0$.\n",
    "\n",
    "Considerar los modelos unidimensionales, exponencial, logístico y de Gompertz.\n",
    "\n",
    "\\end{example}\n",
    "\n",
    "\n",
    " **Modelo exponecial:**\n",
    "    \n",
    "* Asumimos que la velocidad de crecimiento de la población es proporcional al tamaño de la población. O lo que es lo mismo, la *velocidad de crecimiento per capita* $\\left( \\frac{\\dot N}{N} \\right) $ es constante \n",
    "$$\n",
    "    \\dot N = r N   \n",
    "$$\n",
    " \n",
    "* La constante de proporcionalidad, el ratio de crecimiento $r$, tiene dimensión del inverso del tiempo (frecuencia)\n",
    " \n",
    "* El modelo tiene solución analítica. Utilizando separación de variables,\n",
    " $$\n",
    " \\int \\frac{1}{N} dN = \\int r dt\n",
    " $$\n",
    " $$\n",
    " \\log(N) = r t + C\n",
    " $$\n",
    " \n",
    "* El modelo predice un crecimiento exponencial de la población $ N(t) = x_0 e^{rt} $ cuyo **tiempo característico** (el tiempo necesario para que $N$ varíe apreciablemente desde su condición inicial) es $1/r$\n",
    "\n",
    "**Modelo logístico (logistic, catalytic):**\n",
    " \n",
    "  ¿Cómo incluir en el modelo el efecto de la sobre-población y la limitación de recursos a la que se ven sometidos ciertos organismos cuando su población es muy grande?\n",
    "  \n",
    "   * En el modelo exponencial la *velocidad de crecimiento per cápita* ($\\dot N / N$) era constante ($r$). Sin embargo si consideramos la limitación de los recursos, la *velocidad de crecimiento per cápita* debería depender de $N$. Para valores bajos de la población ($N \\sim 0$) su velocidad de variación per cápita debería ser equivalente al *modelo exponencial*: al disponer de abundantes recursos el ritmo (velocidad) de crecimiento de la población no se ve afectado. Sin embargo cuando $N$ aumenta el *rate* per cápita decrece debido a la competencia por los recursos (en condiciones de escasez un organismo no se reproduce al mismo ritmo). Incluso es negativo si el tamaño de la población sobrepasase cierto umbral o factor de carga $K$. El modelo, por tanto,es no-lineal."
   ]
  },
  {
   "cell_type": "markdown",
   "metadata": {},
   "source": [
    "\n",
    "\n",
    "<table align='left'>\n",
    "<tr>\n",
    "<td><img src='./imagenes/growth_rate.jpg' width='300' height='300'/></td>\n",
    "<td><img src='./imagenes/growth_rate_lineal.jpg' width='300' height='300'/></td>\n",
    "</tr>\n",
    "</table>"
   ]
  },
  {
   "cell_type": "markdown",
   "metadata": {},
   "source": [
    " \n",
    "   * Como aproximación al modelo anterior asumimos una velocidad de crecimiento **per capita** es lineal en $N$, (Verhulst 1893) \n",
    "\n",
    " \\begin{align}\n",
    "  \\dot N & = r N \\left( 1 - \\frac{N}{K} \\right)\n",
    "  \\end{align}\n",
    "   donde $r$ representa el ratio de nacimientos de la población (número de nacimientos por unidad de tiempo), $K$ la *capacidad de carga* del modelo y $r/K$ el ratio de fallecimientos. \n",
    "\n",
    "* El modelo es de orden uno, no-lineal y autónomo\n",
    "* El modelo admite solución analítica utilizando separación de variables\n",
    "  $$\n",
    "  N(t)  = \\frac{K}{1 + \\left[ \\frac{K-N_0}{N_0} \\right]\n",
    "e^{-r t} }\n",
    "  $$\n",
    "  "
   ]
  },
  {
   "cell_type": "code",
   "execution_count": 3,
   "metadata": {
    "hide_input": true
   },
   "outputs": [
    {
     "name": "stdout",
     "output_type": "stream",
     "text": [
      "Eq(N(t), K*exp(C1*K + r*t)/(exp(C1*K + r*t) - 1))\n"
     ]
    }
   ],
   "source": [
    "# Program 2b: The logistic equation.\n",
    "from sympy import dsolve, Eq, Function, symbols\n",
    "\n",
    "t = symbols('t')\n",
    "r = symbols('r')\n",
    "K=symbols('K')\n",
    "N=symbols('N', cls=Function)\n",
    "sol=dsolve( Eq(N(t).diff(t), r * N(t)*(1 - N(t)/K) ), N(t))\n",
    "           \n",
    "print(sol)"
   ]
  },
  {
   "cell_type": "markdown",
   "metadata": {},
   "source": [
    "En la siguiente gráfica se representa la solución del modelo $N=N(t)$ para diferentes condiciones iniciales $N_0$."
   ]
  },
  {
   "cell_type": "code",
   "execution_count": 14,
   "metadata": {
    "hide_input": false
   },
   "outputs": [
    {
     "data": {
      "image/png": "[encoded data removed]",
      "text/plain": [
       "<Figure size 720x360 with 1 Axes>"
      ]
     },
     "metadata": {
      "needs_background": "light"
     },
     "output_type": "display_data"
    }
   ],
   "source": [
    "##### ref: Modelo logistico\n",
    "def sol_logistic (t, K, r, n_0):\n",
    "    n = K / (1 + ((K-n_0)/n_0) * np.exp(-r*t))\n",
    "    return n\n",
    "\n",
    "#Main programm\n",
    "T = 100\n",
    "r = 0.1\n",
    "K = 100\n",
    "n_0 = np.array( [1, K/2, 2*K, K/10])\n",
    "\n",
    "\n",
    "fig,  ax = plt.subplots (1, 1, sharex=True, sharey=True, figsize=(10, 5))\n",
    "\n",
    "t = np.linspace (0, T, 1000)\n",
    "for n in n_0:\n",
    "    y =  sol_logistic (t, K, r, n)\n",
    "    ax.plot (t, y, label=f'$N_0=${n}')\n",
    " \n",
    "ax.set_ylabel ('Population')\n",
    "ax.set_xlabel ('Time') \n",
    "ax.set_title (f'Logistic model, K={K}, r={r}')  \n",
    "ax.hlines (y=K,xmin=0, xmax=T, linestyles='--') \n",
    "ax.legend(loc='best')\n",
    "\n",
    "plt.margins(x=0)\n",
    "plt.show()"
   ]
  },
  {
   "cell_type": "markdown",
   "metadata": {},
   "source": [
    "* La curva en que $N$ varía con el tiempo $t$ se conoce *sigmoide* y aparece en campos muy diferentes (por e.g. en redes neuronales artificiales, la función de activación de las neuronas se reprsenta por una sigmoide).  \n",
    "* ¿Es necesario resolver analíticamente el modelo para tener un conocimioento *cualitativo* de su solución? No.\n",
    "* ¿Cómo hallar la solución gráfica en el espacio de fases 1-dimension?\n",
    " \\begin{align*}\n",
    " \\dot N = & f(N)  &  \\text{con}\\\\\n",
    " f(N) = & r N \\left( 1 - \\frac{N}{K} \\right)\n",
    " \\end{align*}\n",
    " \n",
    ">1. Debemos obtener los puntos críticos del modelo: Los puntos son aquellos valores de $N^*$ para los cuales  $f(N^*) = 0$.\n",
    "> En este caso el modelo tiene dos puntos críticos: $N_1^* = 0$ y $N_2^*= K$\n",
    ">\n",
    ">2. Determinar la estabilidad de los puntos críticos. \n",
    ">   Para ello se analiza el comportamiento de las trayectorias de $N$ en la proximidad de los puntos críticos (a la derecha y a la izquierda de cada uno de los puntos críticos). Si te fijas un punto crítico $N^*$ será estable cuando  $f'(N^*) < 0$ e inestable cuando  $f'(N^*) > 0$. \n",
    "    .\n",
    ">3. Construir la gráfica N = N(t) para diferentes condiciones iniciales.\n"
   ]
  },
  {
   "cell_type": "markdown",
   "metadata": {},
   "source": [
    "\n",
    "\n",
    "<table align='left'>\n",
    "<tr>\n",
    "<td><img src='./imagenes/f233_growth_phase.jpg' width='300' height='300'/></td>\n",
    "<td><img src='./imagenes/f234_growth_sol.jpg' width='300' height='300'/></td>\n",
    "</tr>\n",
    "</table>"
   ]
  },
  {
   "cell_type": "markdown",
   "metadata": {},
   "source": [
    "**Modelo de Gompertz**\n",
    "\n",
    "Es un modelo empírico. El modelo, i.e., la ecuación diferencial, se ha construído a partir de la observación de la *tasa de variación* del tamaño de la población (i.e., de la velocidad $\\frac{dN}{dt}$ de la población)   \n",
    "\n",
    " \\begin{align}\n",
    "  \\dot N & = \n",
    "  r N \\log \\left( \\frac{K}{N} \\right)\n",
    "  \\end{align}\n",
    "  "
   ]
  },
  {
   "cell_type": "code",
   "execution_count": 16,
   "metadata": {
    "hide_input": false
   },
   "outputs": [
    {
     "data": {
      "image/png": "[encoded data removed]",
      "text/plain": [
       "<Figure size 720x216 with 1 Axes>"
      ]
     },
     "metadata": {
      "needs_background": "light"
     },
     "output_type": "display_data"
    }
   ],
   "source": [
    "#####ref: Gompertz Model\n",
    "def f(n, r, K):\n",
    "    return r*n*np.log(K/n)\n",
    "\n",
    "\n",
    "r= 0.1\n",
    "K = 100\n",
    "n_max = 125\n",
    "n = np.linspace( 0.0001, n_max, 1000)\n",
    "\n",
    "fig,  ax = plt.subplots (1, 1, sharex=True, sharey=True, figsize=(10, 3))\n",
    "\n",
    "ax.plot(n, f(n, r, K))\n",
    "ax.hlines (y=0,xmin=0, xmax=n_max, linestyles='--') \n",
    "ax.set_xlabel ('Population, N') \n",
    "ax.set_ylabel (f'$\\dot N$')\n",
    "ax.set_xticks([K/2, K])\n",
    "ax.set_xticklabels(['K/2', 'K'])\n",
    "ax.set_title ('Gromptez model')  \n",
    "\n",
    "# Critical points\n",
    "ax.scatter(K, 0, facecolors='red')\n",
    "plt.scatter(0, 0, facecolors='none', edgecolors='r')\n",
    "\n",
    "plt.margins(x=0)\n",
    "plt.show()"
   ]
  },
  {
   "cell_type": "markdown",
   "metadata": {},
   "source": [
    "  $$\n",
    "  N(t) = K  e^{\\log \\left( \\frac{N_0}{K} \\right) \\exp^{-r t} }\n",
    "  $$"
   ]
  },
  {
   "cell_type": "code",
   "execution_count": 6,
   "metadata": {
    "hide_input": true
   },
   "outputs": [
    {
     "name": "stdout",
     "output_type": "stream",
     "text": [
      "Eq(N(t), K*exp(C1*exp(-r*t)))\n"
     ]
    }
   ],
   "source": [
    "# Program 2b: The Gompertz model.\n",
    "from sympy import dsolve, Eq, Function, symbols, log\n",
    "\n",
    "t = symbols('t')\n",
    "r = symbols('r')\n",
    "K=symbols('K')\n",
    "N=symbols('N', cls=Function)\n",
    "sol=dsolve( Eq(N(t).diff(t), r * N(t)*log(K/N(t))) , N(t) )\n",
    "           \n",
    "print(sol)"
   ]
  },
  {
   "cell_type": "markdown",
   "metadata": {},
   "source": [
    "El modelo de Gompertz se aplica en campos muy diversos. Desde la modelización de propogación de epidemias \n",
    "(por e.g COVID [Sánchez-Villegasa and Codina] hasta el control de stocks en mercados financieros [Caravelli et al.]"
   ]
  },
  {
   "cell_type": "markdown",
   "metadata": {},
   "source": [
    "**Relación entre los modelos logístico y Gompertz**\n",
    "\n",
    "Teniendo en cuenta que \n",
    "$$\n",
    "\\lim_{\\alpha \\to \\infty} \\alpha \\left( 1-  x^{\\frac{1}{\\alpha} } \\right)  = \\log(x)\n",
    "$$\n",
    "podemos expresar los modelos logísticos y de Gompertz como casos particulares de la  ecuación diferencial general\n",
    "$$\n",
    "\\dot N = r \\, N \\, \\alpha \\,  \\left( 1 - \\left( \\frac{N}{K} \\right)^{1/\\alpha} \\right)\n",
    "$$\n",
    "para los casos límites de  $\\alpha = 1$ y $\\alpha \\to \\infty$ respectivamente"
   ]
  },
  {
   "cell_type": "markdown",
   "metadata": {},
   "source": [
    "\\begin{example}: **Modelos de propagación de enfermedades (SIR)**\n",
    "\n",
    "\n",
    "Suponga el siguiente modelo de transmisión de una infección\n",
    "\\begin{align}\n",
    "    \\dot S &= - \\beta S  I \\\\\n",
    "    \\dot I &= \\beta S  I  - \\gamma I \\\\\n",
    "    \\dot R &= \\gamma I\n",
    "\\end{align}\n",
    "\n",
    "El modelo es de dimensión tres, $S$ representa la cantidad de individuos susceptibles de ser infectados, $I$ los infectados y $R$ los recuperados. Se modelan los flujos (relaciones) entre las variables.\n",
    "\n",
    "* En el modelo más simple el tamaño de la población permanece constante $N = S(t) + I(t) + R(t)$. En estas condiciones el modelo es de dimensión dos $R(t) = N- S(t) - I(t)$.\n",
    "* Los parámetros $\\beta, \\gamma >0$. \n",
    "* La velocidad  a la que varían los susceptibles $S$ siempre es negativa: los susceptibles no pueden crecer. La velocidad de decrecimiento es proporcional al número de infectados $I$. El coeficiente de proporcionalidad se denomina *tasa de crecimiento* $\\beta$ (*dissase transmision rate*)\n",
    "* La velocidad a la que varían los infectados $ \\dot I = - \\dot S  - \\dot R$ incluye un término positivo, la función $S(t)$ es monótona decreciente, y uno negativo, $R(t)$ es monótona creciente.  \n",
    "* Los *recuperados* son proporcionales a los infectados. Los recuperados quedan inmunizados, no pueden volver a ser susceptibles.  En caso contrario la ecuación de los susceptibles debería incluir un término positivo proporcional a los recuperados (modelo SIS). \n",
    "* El coeficiente $\\gamma$ es la tasa de recuperación. Su inverso es el tiempo durante el cual un infectado puede seguir infectando antes de considerarse recuperado. Por e.g., los estudios preliminares sobre COVID-19 lo cifran entre 6.5 y 10 días, en este caso  $\\gamma \\in [1/10, 1/6.5]$.   \n",
    "* En el modelo se está asumiendo que no se producen fallecimientos entre los infectados. \n",
    "* El coeficiente $\\Re(t) = \\beta S / \\gamma N$ se denomina índice de reproducción. Si $\\Re > 1$ la epidemia se propaga. \n",
    "* El modelo tiene un punto de equilibrio (no enfermedad) en $S=N, I =0, R=0$. \n",
    "\n",
    "\n",
    "*Mas allá del modelo SIR...:*\n",
    "\n",
    "* Modelo SEIR incorpora una dimensión mas. Los individuos pueden estar en estado *expuesto*.\n",
    "\n",
    "* Tanto el modelo SIR como SEIR son modelos de **campo medio**. Otras estrategia de simulación de epidemias son los modelos basados en agentes y grafos donde se modela el comportamiento social de los individuos. En estos modelos los valores medios de $S$, $R$ e $I$ se estiman promediando sobre el estado de los vértices o los agentes del modelo.  \n",
    "\n",
    "* El modelo SIR / SEIR es determinista. Los modelos de epidemias no determinista se simulan habitualmente con cadenas de Markov o con modelos SDE (stochastic differential equations) (Linda 2017)\n",
    "\n",
    "* Modelos en los que los parámetros no son constantes. El modelo deja de ser válido cuando el sistema no está aislado. Por ejemplo, las políticas de intervención de las administraciones (confinamientos, mascarillas,...) modifican el valor de $\\beta$. En esas condiciones la dinámica del modelo se rige por la dinámica de $\\beta = \\beta(t)$.\n",
    "\n",
    "\\end{example}\n",
    "\n",
    "\n",
    "**Tipos de ODE**\n",
    "\n",
    "Suponga un sistema de ODEs:\n",
    "\n",
    " $$\n",
    " \\vec{\\dot x} = \\vec{f}( \\vec{x}, \\vec{a}, t)\n",
    " $$\n",
    " \n",
    " Algunas de sus características mas importantes son:\n",
    "\n",
    "* *Linealidad*: El sistema será lineal cuando  $\\vec{f}$ sea lineal respecto a $x$ y $\\dot x$. Ejemplos habituales de no-linealidades son los productos, potencias y funciones de $x_i$. como por ejemplo $x_1, x_2, (x_1)^3, \\sin(x_1)$. \n",
    "\n",
    "    A diferencia de los sistemas lineales, la mayoría de los sistemas no-lineales no admiten soluciones analíticas. ¿Por qué los sistemas no lineales son más difíciles de analizar que los lineales? La diferencia esencial radica en que los sistemas lineales pueden dividirse en partes. Las parte pueden resolverse independientemente y finalmente recombinarse para obtener la respuesta del sistema. Esta estrategia permite las simplificación de problemas complejos y es la base de métodos como los modos normales, las transformadas de Laplace, los argumentos de superposición y el análisis de Fourier. La respuesta de un sistema lineal es igual a la suma de las respuestas de sus partes. Pero muchas veces la naturaleza no actúa de esta manera. Cuando las partes de un sistema interfieran, cooperen o compitan, se producirán interacciones no lineales y el principio de superposición no será apropiado.\n",
    "\n",
    "* *Autónomo*: Cuando $\\vec{f}$ no depende explícitamente del tiempo se dice que el sistema es autónomo. Nosotros analizaremos fundamentalmente sistemas autónomos. \n",
    "\n",
    "* *Orden de una ecuación*: Es el orden de la mayor de las derivadas incluida en una ecuación. Una ODE de orden $n$ es equivalente a un sistema de $n$ ODEs de orden 1. El número de condiciones iniciales que se deben fijar en el sistema es igual a su dimensión. \n",
    "\n",
    "\\begin{example} **Equivalencia entre el orden de una ODE y la dimensión de un sistema**\n",
    "\n",
    "Suponga el siguiente modelo para simular las oscilaciones de un péndulo: \n",
    "\n",
    "$$\n",
    "     m \\ddot{\\theta} + \\frac{g}{l} \\sin \\theta = 0\n",
    "$$\n",
    "donde $\\theta$ es el ángulo del péndulo medido desde la vertical. Si definimos la variable $y =  \\dot \\theta$ el sistema anterior es equivalente al sistema autónomo, no-lineal de orden dos \n",
    "    \\begin{align}\n",
    "    \\dot \\theta = & \\nu \\\\\n",
    "    \\dot \\nu = & - \\frac{g}{l} \\sin{\\theta} \n",
    "    \\end{align}\n",
    "\n",
    "* La no-linealidad del péndulo hace muy difícil resolver el problema analíticamente, hay que recurrir a funciones elípticas.\n",
    "La solución habitual consiste en **linealizar** el sistema substituyendo $\\sin(\\theta)$ por el primer término de su desarrollo  de Taylor $\\sin \\theta \\approx x$. Esta aproximación es válido para pequeñas oscilaciones $\\theta \\sim 0$, esto es, cuando el ángulo $\\theta$ permanece muy próximo a la vertical. A diferencia del modelo no-lineal, este nuevo modelo (abstracción del sistema físico) sí admite una solución analítica. Sin embargo el modelo lineal no permite simular ciertos comportamientos del sistema, por ejemplo, las oscilaciones del péndulo cuando este sobrepasa la vertical. \n",
    "En este tema veremos como extraer información de modelos no-lineales sin necesidad de resolverlo analíticamente.\n",
    "\n",
    "\\end{example}\n",
    "\n",
    "\n",
    "## Solución analítica sistemas de una dimensión\n",
    "\n",
    "**Separación de variables**\n",
    "\n",
    "En los sistemas en una dimensión $\\dot{x}  =  f( x, a, t)$ cuando $f$ es factorizable  $f = f(x) g(t)$ se puede aplicar el método de separación variables:\n",
    "\n",
    "\\begin{align}\n",
    "\\dot{x}  =  f( x, a, t) & = f(x) g(t) \\\\\n",
    "\\int \\frac{1}{f(x)} dx & = \\int g(t) dt\n",
    "\\end{align}\n",
    "que permite obtener soluciones analíticas cuando se conozca la integral de $\\frac{1}{f(x)}$ y $g(t)$."
   ]
  },
  {
   "cell_type": "markdown",
   "metadata": {},
   "source": [
    "\\begin{example}\n",
    "$$\n",
    "\\dot x = -\\frac{t}{x}\n",
    "$$\n",
    "\\end{example}\n",
    "\n",
    "*Solución:*\n",
    "\\begin{align}\n",
    " x^2 + t^2 &= C \n",
    "\\end{align}"
   ]
  },
  {
   "cell_type": "code",
   "execution_count": 3,
   "metadata": {},
   "outputs": [
    {
     "name": "stdout",
     "output_type": "stream",
     "text": [
      "[Eq(x(t), -sqrt(C1 - t**2)), Eq(x(t), sqrt(C1 - t**2))]\n"
     ]
    }
   ],
   "source": [
    "#  A program that solves a simple ODE.\n",
    "\n",
    "from sympy import dsolve, Eq, symbols, Function\n",
    "\n",
    "t = symbols('t')\n",
    "x = symbols('x', cls=Function)\n",
    "deqn1 = Eq(x(t).diff(t), -t / x(t))\n",
    "sol1 = dsolve(deqn1, x(t))\n",
    "\n",
    "print(sol1)"
   ]
  },
  {
   "cell_type": "markdown",
   "metadata": {},
   "source": [
    "## Análisis sistemas dinámicos en una dimensión \n",
    "\n",
    "### Análisis del espacio de fases\n",
    "\n",
    "\\begin{example}\n",
    "\n",
    "Analice las soluciones de la ODE, $\\dot x = f(x)$ siendo $ f(x) = \\sin x$\n",
    "\n",
    "La solución analítica cuando $x(0) = x_0$ es\n",
    "\n",
    "$$\n",
    "t = \\log \\left| \\frac{ \\csc x_0 + \\cot x_0}{ \\csc x + \\cot x}   \\right|\n",
    "$$\n",
    "\\end{example}\n",
    "\n",
    "Receta para hallar la solución gráfica en el espacio de fases de 1-dimensión:\n",
    "\n",
    "1. Determinar los puntos críticos $x$ del modelo calculando las raíces de $f(x^*) = 0$\n",
    "2. Obtener la estabilidad de los puntos críticos del modelo analizando el comportamiento de las trayectorias en la proximidad de los puntos críticos: si $f'(x^*) < 0 $ el punto crítico $x^*$ es estable, si $f'(x*) > 0 $, $x^*$ es inestable.\n",
    "3. Construir le gráfico x = x(t) para diferentes condiciones iniciales\n"
   ]
  },
  {
   "cell_type": "markdown",
   "metadata": {
    "hide_input": false
   },
   "source": [
    "\n",
    "\n",
    "<table align='left'>\n",
    "<tr>\n",
    "<td><img src='./imagenes/f211_sin.jpg' width='300' height='400'/></td>\n",
    "<td><img src='./imagenes/f213_sin_sol.jpg' width='200' height='100'/></td>\n",
    "</tr>\n",
    "</table>"
   ]
  },
  {
   "cell_type": "markdown",
   "metadata": {},
   "source": [
    "### Análisis de estabilidad\n",
    "\n",
    "Hasta ahora hemos desarrollado un método gráfico para determinar la estabilidad de los puntos de equilibrio: analizando el comportamiento de las trayectorias en las proximidades de los puntos de equilibrio. Sin embargo a menudo se requiere una estimación cuantitativa.  \n",
    "\n",
    "Sea $\\eta(t)  = x(t) - x^*$ la distancia al punto de equilibrio $x^*$ en un determinado instante de tiempo. Supongamos que $\\eta$ es pequeña (es una perturbación pequeña, para $t=t_0$ el sistema está cerca de su punto de equilibrio). Estamos interesados en saber como evolucionará la perturbación en el tiempo: si la perturbación crece, el sistema se alejará del punto de equilibrio, pero si la perturbación decrece se acercará a $x^*$ a medida que transcurra el tiempo. En el primer caso el punto de equilibrio sera inestable y en el segundo estable. Como no conozco $x(t)$, se planteará la ODE correspondiente $\\eta$ y se resolverá.\n",
    "\n",
    "Diferenciando en la expresión de $\\eta$ se obtiene,\n",
    "$$\\dot \\eta = \\dot x = f(x)$$ \n",
    "Como  $\\eta(t)$ es una pequeña perturbación, puedo desarrollar $f$ en serie de Taylor entorno a $x^*$   \n",
    "$$ f(x^* + \\eta) = f(x^*) + f'(x^*) \\eta + O (\\eta^2)$$\n",
    "Pero $f(x^*) =0$ al ser $x^*$ un punto de equilibrio, simplificándose la expresión anterior \n",
    "$$ f(x^* + \\eta) =  f'(x^*) \\eta + O (\\eta^2)$$\n",
    "Además si $f'(x^*) \\neq 0$ se pueden despreciar los términos de orden superior, obteniendo finalmente la ODE \n",
    "$$\\dot \\eta = f'(x^*) \\eta $$\n",
    "cuya solución es\n",
    "$$\n",
    "\\eta(t) = C e ^{f'(x^*) t }\n",
    "$$\n",
    "\n",
    "Esta ecuación es muy significativa:\n",
    "* Si $f'(x^*) > 0$ la perturbación crecerá aumenta la distancia al punto de equilibrio $x^*$. El punto de equilibrio es inestable\n",
    "* Si $f'(x^*) < 0$ la distancia disminuye. El punto de equilibrio es estable.\n",
    "* En ambos casos la solución a la ODE de la perturbación es una exponencial de tiempo característico  $ 1 / f'(x^*)$ . Recordar que el tiempo característico es el tiempo necesario que debe transcurrir para que la variable, en este caso $\\eta$, varíe apreciablemente en las cercanías de $x^*$. "
   ]
  },
  {
   "cell_type": "markdown",
   "metadata": {},
   "source": [
    "## Bifurcaciones"
   ]
  },
  {
   "cell_type": "markdown",
   "metadata": {},
   "source": [
    "Cambio cualitativo en la dinámica de un sistema cuando alguno de los parámetros del sistema se modifica. En una dimensión, $\\dot x = f(x; \\mu)$, las bifurcaciones mas importantes son:\n",
    "\n",
    "* Saddle-node: $f(x;\\mu) = \\mu - x^2$\n",
    "* Transcritical: $f(x) = \\mu  x - x^2$\n",
    "* pitcfork: $\\mu x - x ^3$\n",
    "\n"
   ]
  },
  {
   "cell_type": "markdown",
   "metadata": {},
   "source": [
    "**Saddle-node bifurcation**"
   ]
  },
  {
   "cell_type": "markdown",
   "metadata": {},
   "source": [
    "\\begin{example}\n",
    "\n",
    "Suponga la ODE\n",
    "$$\n",
    "\\dot  v = I + v^2\n",
    "$$\n",
    "\n",
    "siendo $I < 0$. Analice sus bifurcaciones\n",
    "\n",
    "*Solución*\n",
    "\n",
    "1. Puntos de equilibrio.\n",
    "Para hallar los puntos de equilibrio se deben buscar la raíces del sistema $I + v^2 = 0$.\n",
    "El sistema tendrá dos puntos de equilibrio $v = - \\sqrt{-I}$ (estable)\n",
    "y $v =  \\sqrt{-I}$ (inestable).\n",
    "\n",
    "2. Análisis de bifurcaciones. Incrementar el valor del parámetro $I$ paulatinamente.\n",
    "\n",
    "No hay ningún cambio cualitativo en las soluciones del sistema hasta que se llega a la bifurcación $I=0$. En la bifurcación se fusionan los dos puntos de equilibrio. Después de la bifurcación el sistema **no** tiene puntos de equilibrio.\n",
    "\n",
    "\\end{example}"
   ]
  },
  {
   "cell_type": "markdown",
   "metadata": {},
   "source": [
    "<img src='./imagenes/bifur_1d_saddle_node.jpg' width='300' height='300'/>"
   ]
  },
  {
   "cell_type": "markdown",
   "metadata": {},
   "source": [
    "\\begin{example}\n",
    "\n",
    "\n",
    "El potencial de membrana de una neurona en los modelos unidimensionales\n",
    "$$\n",
    "\\dot v = F(v)\n",
    "$$\n",
    "donde $F(v)$ tiene la forma  $F(v) = I + g(v) $ donde $I$ simula la excitación a la que se ve sometida la neurona (habitualmente una corriente externa). \n",
    "\\end{example}"
   ]
  },
  {
   "cell_type": "markdown",
   "metadata": {},
   "source": [
    "<img src='./imagenes/neuron_1d_bifur.jpg' width='500' height='500'/>"
   ]
  },
  {
   "cell_type": "markdown",
   "metadata": {},
   "source": [
    "<img src='./imagenes/bifur_1d_neuron.jpg' width='500' height='500'/>"
   ]
  },
  {
   "cell_type": "markdown",
   "metadata": {},
   "source": [
    "**Transcritical bifurcation**\n",
    "\n",
    " $\\dot x = r  x - x^2$\n",
    " \n",
    " Cuando el parámetro $r<0$ el sistema tiene 2 puntos críticos $x=0$, estable, y $x=-r$, inestable. El sistema tiene una bifurcación *transcrítica* en $r=0$. Tras la bifurcación el sistema sigue teniendo dos puntos críticos. Sin embargo el punto crítico inestable que estaba en $x=-r$ ha desaparecido y en su lugar ha surgido un punto crítico estable en $x=r$. Además el punto crítico en $x=0$ ha perdido inestabilidad.   "
   ]
  },
  {
   "cell_type": "markdown",
   "metadata": {},
   "source": [
    "<table align='left'>\n",
    "<tr>\n",
    "<td><img src='./imagenes/transcritical_din.jpg' width='500' height='500'/></td>\n",
    "<td><img src='./imagenes/transcritical.jpg' width='500' height='500'/></td>\n",
    "</tr>\n",
    "</table>"
   ]
  },
  {
   "cell_type": "markdown",
   "metadata": {},
   "source": [
    "**Pitchfork (tenedor) bifurcation**\n",
    "\n",
    "$$ \\dot x = rx - \\alpha x^3$$\n",
    "\n",
    "* Para $\\alpha > 0$\n",
    "se dice que la bifurcación es *super-critica*. En este caso si $r>0$ los puntos de equilibrio son $x=0$, inestable, y $x = \\pm \\sqrt{\\frac{r}{\\alpha}}$, estables. Para $r<0$ el único punto crítico es $x=0$, estable. \n",
    "\n",
    "* Para $\\alpha < 0$ la bifurcación es *sub-critica*.\n",
    "\n",
    "En la figura se ha representado $\\dot x$ frente a $x$ para un sistema que muestra una bifurcación de tipo pitchfork super-crítica. \n",
    "En la siguiente figura se muestran los diagramas de bifurcación de las bifurcaciones pitchfork super y sub-crítica."
   ]
  },
  {
   "cell_type": "code",
   "execution_count": 8,
   "metadata": {
    "scrolled": false
   },
   "outputs": [
    {
     "data": {
      "image/png": "[encoded data removed]",
      "text/plain": [
       "<Figure size 720x216 with 2 Axes>"
      ]
     },
     "metadata": {
      "needs_background": "light"
     },
     "output_type": "display_data"
    }
   ],
   "source": [
    "\n",
    "fork = lambda x, r, a: r*x - a *x**3\n",
    "\n",
    "def plot_panel (x, ax, i, r, a, text, limits=(-5, 5), points=False):\n",
    "    ax[i].plot(x, fork(x, r, a))\n",
    "    ax[i].hlines (y=0, xmin=limits[0], xmax=limits[1], linestyles='solid', color='b') \n",
    "    #ax[i].axvline (x=0,  linestyles='solid', color='b') \n",
    "    ax[i].set_title (f'{text}') \n",
    "    ax[i].set_ylabel (r'$\\dot{x}$')\n",
    "    ax[i].set_xticks([-np.sqrt( abs(r)/abs(a)),0, np.sqrt( abs(r)/abs(a)) ])\n",
    "    ax[i].set_xticklabels([r'$-\\sqrt{r/a}$', '0', '$\\sqrt{r/a}$'])\n",
    "    if points == True:\n",
    "        ax[i].scatter([-np.sqrt(r/a),0, np.sqrt(r/a)], [0,0, 0], \n",
    "                      edgecolors=['red','red','red'],\n",
    "                      facecolors=['red', 'none','red'])\n",
    "    else:\n",
    "        ax[i].scatter(0, 0, color='red')\n",
    "    \n",
    "fig,  ax = plt.subplots (1, 2, sharex=True, sharey=False, figsize=(10, 3))\n",
    "x = np.linspace(-5, 5, 100)\n",
    "\n",
    "limits=(-5, 5)\n",
    "\n",
    "plot_panel(x, ax=ax, i=0, r=-10, a=0.5, limits=limits, text=\"Pitchfork super-crítica r<0\")\n",
    "plot_panel(x, ax=ax, i=1, r=10,  a=0.5, limits=limits, text=\"Pitchfork sub-crítica r>0\", points=True)\n"
   ]
  },
  {
   "cell_type": "code",
   "execution_count": 9,
   "metadata": {},
   "outputs": [
    {
     "data": {
      "image/png": "[encoded data removed]",
      "text/plain": [
       "<Figure size 720x216 with 2 Axes>"
      ]
     },
     "metadata": {
      "needs_background": "light"
     },
     "output_type": "display_data"
    }
   ],
   "source": [
    "\n",
    "def bifurcation (r, a):\n",
    "    up = np.sqrt (np.abs(r) / np.abs(a))\n",
    "    down = -up\n",
    "    return up, down\n",
    "\n",
    "def plot_bifurcation (ax, i, a):\n",
    "    r_left = np.arange(-10,0,0.01)\n",
    "    r_right =  np.arange(0,10,0.01)\n",
    "    zeros =  np.zeros(len(r_left))\n",
    "    ax[i].plot (r_left, zeros, color='b')\n",
    "    ax[i].set_xlabel('r')\n",
    "    ax[i].set_ylabel('x')\n",
    "    if a>0:  # super\n",
    "        up, down = bifurcation (r_right, a)\n",
    "        ax[i].plot (r_right, up, color ='b')\n",
    "        ax[i].plot(r_right, down, color='b')\n",
    "        ax[i].plot(r_right, zeros, '--', color='r')\n",
    "        ax[i].set_title (\"Pitchfork supercrítico\")\n",
    "    else :\n",
    "        up, down = bifurcation (r_left, a)\n",
    "        ax[i].plot (r_left, up, '--', color ='r')\n",
    "        ax[i].plot(r_left, down, '--', color='r')\n",
    "        ax[i].plot(r_right, zeros, '--', color='r')\n",
    "        ax[i].set_title (\"Pitchfork subcrítico\")\n",
    "\n",
    "\n",
    "fig,  ax = plt.subplots (1, 2, sharex=True, sharey=True, figsize=(10, 3))\n",
    "plot_bifurcation(ax, i=0, a=0.5)\n",
    "plot_bifurcation(ax, i=1, a=-0.5)\n",
    "\n",
    "plt.margins(x=0)\n",
    "plt.show()\n",
    "\n",
    "       "
   ]
  },
  {
   "cell_type": "markdown",
   "metadata": {},
   "source": [
    "## Integración numérica\n",
    "\n",
    "### Método de Euler\n",
    "\n",
    "Suponga una partícula *inmersa en el fluido* que en el instante $t_0$ se hallase en la posición $x_0$. Su velocidad sería $f(x_0)$. Por tanto en el siguiente intervalo de tiempo $\\Delta t$ se desplazaría una cantidad $f(x_0) \\Delta t$  y su nueva posición $x_1$ sería\n",
    "$$\n",
    "x(t_0 + \\Delta t) \\approx  x_1 = x_0 + f(x_0) \\Delta t\n",
    "$$\n",
    "y para intervalos iguales de tiempo tendríamos la ley de recurrencia \n",
    "$$\n",
    "x_{n+1} = x_n + f(x_n) \\Delta t\n",
    "$$"
   ]
  },
  {
   "cell_type": "markdown",
   "metadata": {},
   "source": [
    "<img src='./imagenes/f281_euler.jpg' width='300' height='300'/>"
   ]
  },
  {
   "cell_type": "markdown",
   "metadata": {},
   "source": [
    "### Método de Euler mejorado (*Heun's method*)\n",
    "\n",
    "Un problema con el método de Euler es que estima la derivada solo en el extremo izquierdo del intervalo de tiempo $[t_n,  t_{n +1}]$. Sería mas prometedor utilizar el promedio de las derivadas al principio y al final del intervalo. Ésta es la idea que subyace detrás del *método Euler mejorado*. \n",
    "Primero se *estima* la posición $\\tilde{x}_{n+1}$ con el el método de Euler. A continuación se utiliza $\\tilde{x}_{n+1}$  para estimar el valor de la derivada al final del intervalo $f(\\tilde{x}_{n+1})$. Finalmente, se promedias las derivadas en ambos extremos del intervalo, $f(x_n)$ y $f(\\tilde{x}_{n+1})$,  para obtener el valor definitivo de $x_{n+1}$,\n",
    "\\begin{align*}\n",
    "\\tilde{x}_{n+1} = & x_n + f(x_n) \\Delta t \\\\\n",
    "x_{n+1} = & x_n + \\frac{1}{2} \n",
    "\\left[ f(x_n) + f(\\tilde{x}_{n+1}) \\right] \\Delta t\n",
    "\\end{align*}\n",
    "\n",
    "\n",
    "* Este método es más preciso que el método de Euler, en el sentido de que tiende a cometer un menor error $E = | x (t_n) - x_n |$ para un tamaño dado $\\Delta t$. En ambos casos, el error $E \\rightarrow 0$ cuando $\\Delta t \\rightarrow 0$, pero el error disminuye más rápidamente para el método de Euler mejorado. Se puede demostrar que $E \\propto \\Delta t$ en el método de Euler y  $E \\propto \\left( \\Delta t \\right)^2$ para el método de Euler mejorado. El método de Euler es de primer orden, mientras que el método de Euler mejorado es de segundo orden.\n",
    "\n",
    "\n",
    "### Método de Runge-Kutta (*classic rk fourth-order method*)\n",
    "\n",
    "\n",
    "Se han desarrollado métodos de tercer, cuarto e incluso de orden superior. Sin embargo los métodos de orden superior no son necesariamente superiores. Los métodos de orden superior requieren más cálculos y evaluaciones de funciones, por lo que hay un costo computacional asociado con ellos. En la práctica, se logra un buen equilibrio mediante este método de Runge-Kutta de cuarto orden: \n",
    "\n",
    "\\begin{align*}\n",
    "k_1 = & f(x_n) \\Delta t \\\\\n",
    "k_2  = & f \\left( x_n + \\frac{1}{2} k_1 \\right) \\Delta t \\\\\n",
    "k_3  = & f \\left( x_n + \\frac{1}{2} k_2 \\right) \\Delta t \\\\\n",
    "k_4  = & f \\left( x_n + k_3 \\right) \\Delta t\n",
    "\\end{align*}\n",
    "\n",
    "* $k_1$ es simplemente la predicción de Euler  del final del intervalo.\n",
    "* En $k_2$ se evalúa la pendiente en mitad del intervalo utilizando la predicción de Euler para el intervalo.\n",
    "* $k_3$ es bastante similar a $k_2$ excepto que en vez de utilizar $k_1$, se utiliza $k_2$ como estimación del fin del intervalo\n",
    "* $k_4$ evalúa $f$ en el extremo derecho del intervalo utilizando la predicción de $k_3$ para el fin del intervalo. \n",
    "\n",
    "$$\n",
    "x_{n+1} = x_{n} + \\frac{1}{6} (k_1 + 2 k_2 + 2 k_3 + k_4)\n",
    "$$\n",
    "\n",
    "### Notación matricial\n",
    "\n",
    "Los métodos que hemos visto (Euler, Euler mejorado y Runge-Kutta de 4 orden) pertenecen a la familia de métodos iterativos de Runge-Kutta. \n",
    "Los diferentes métodos se pueden expresar de forma compacta con el formalismo matricial de Butcher  \n",
    "\n",
    "\\begin{align*}\n",
    "k_1 = & f(x_n) \\Delta t \\\\\n",
    "k_2  = & f \\left( x_n + a_{21} k_1 \\right) \\Delta t \\\\\n",
    "k_3  = & f \\left( x_n + a_{31} k_1 + a_{32} k_2 \\right) \\Delta t \\\\\n",
    " \\vdots & \\\\\n",
    "k_n  = & f \\left( x_n + \\sum_{j=1}^{n-1} a_{nj} k_j \\right) \\Delta t\n",
    "\\end{align*}\n",
    "\n",
    "$$ \n",
    "x_{n+1} = x_n + \\sum_{i=1}^s b_i k_i\n",
    "$$\n",
    "\n",
    "Donde se utiliza la notación matricial para los coeficientes $a_{ij}$ y $b_i$\n",
    "$$\n",
    "\\left(\n",
    "\\begin{array}{c|c c c c} \n",
    "\tc_1 & a_{11} & a_{12} & \\cdots & a_{1s} \\\\\n",
    "    c_2 & a_{21} & a_{22} & \\cdots & a_{2s} \\\\ \n",
    " \\vdots & \\vdots & \\vdots & \\ddots &\\vdots\\\\ \n",
    "    c_s & a_{s1} & a_{s2} & \\cdots & a_{ss} \\\\ \n",
    " \\hline \n",
    "       & b_1     & b_2   &  \\cdots & b_n\n",
    "\\end{array}\n",
    "\\right) \n",
    "$$\n",
    "\n",
    "* En el caso de $rk4$ la matriz anterior seria\n",
    "\n",
    "$$\n",
    "\\left(\n",
    "\\begin{array}{c|c c c c} \n",
    "\t0    & 0   & 0   & 0 & 0 \\\\\n",
    "    1/2  & 1/2 & 0   & 0 & 0 \\\\\n",
    "    1/2  & 0   & 1/2 & 0 & 0 \\\\\n",
    "    1    & 0   & 0   & 1 & 0 \\\\\n",
    " \\hline \n",
    "       & 1/6  & 1/3   & 1/3 & 1/6\n",
    "\\end{array}\n",
    "\\right) \n",
    "$$\n",
    "\n",
    "Pra rk4 el error se comporta como  $E \\propto \\left( \\Delta t \\right)^4$\n",
    "* En Euler mejorado\n",
    "$$\n",
    "\\left(\n",
    "\\begin{array}{c|c c } \n",
    "\t0    & 0   & 0    \\\\\n",
    "    1    & 1  & 0    \\\\\n",
    " \\hline \n",
    "       & 1/2  & 1/2  \n",
    "\\end{array}\n",
    "\\right) \n",
    "$$\n"
   ]
  },
  {
   "cell_type": "markdown",
   "metadata": {},
   "source": [
    "## Ápendice"
   ]
  },
  {
   "cell_type": "markdown",
   "metadata": {},
   "source": [
    "<img src='./imagenes/cuadro.jpeg' width='800' height='800'/>"
   ]
  },
  {
   "cell_type": "markdown",
   "metadata": {},
   "source": [
    "**Referencias**\n",
    "\n",
    "* S.H. Strogatz, *Non linear dynamics and chaos with applications to physics, biology and engineering*,  Taylor & Francis Inc (2014).\n",
    "* J. Harris et al., NBER working paper (2020).\n",
    "https://www.nber.org/system/files/working_papers/w26917/w26917.pdf\n",
    "* Linda, *A primer on stochastic epidemic models: Formulation, numerical simulation, and analysis*. Infectious Disease Modelling Vol 2, pp 128-142 (2017).\n",
    "* P. Sánchez-Villegasa and A. Daponte Codina https://www.ncbi.nlm.nih.gov/pmc/articles/PMC7256556\n",
    "* F. Caravelli, L. Sindoni, F. Caccioli, and C. Ududec, Phys. Rev. E 94, 022315 – Published 23 August 2016\n"
   ]
  },
  {
   "cell_type": "code",
   "execution_count": null,
   "metadata": {},
   "outputs": [],
   "source": []
  }
 ],
 "metadata": {
  "hide_input": false,
  "kernelspec": {
   "display_name": "Python 3",
   "language": "python",
   "name": "python3"
  },
  "language_info": {
   "codemirror_mode": {
    "name": "ipython",
    "version": 3
   },
   "file_extension": ".py",
   "mimetype": "text/x-python",
   "name": "python",
   "nbconvert_exporter": "python",
   "pygments_lexer": "ipython3",
   "version": "3.7.6"
  },
  "latex_envs": {
   "LaTeX_envs_menu_present": true,
   "autoclose": false,
   "autocomplete": false,
   "bibliofile": "biblio.bib",
   "cite_by": "apalike",
   "current_citInitial": 1,
   "eqLabelWithNumbers": true,
   "eqNumInitial": 1,
   "hotkeys": {
    "equation": "Ctrl-E",
    "itemize": "Ctrl-I"
   },
   "labels_anchors": false,
   "latex_user_defs": false,
   "report_style_numbering": false,
   "user_envs_cfg": false
  },
  "nbTranslate": {
   "displayLangs": [
    "en",
    "es"
   ],
   "hotkey": "alt-t",
   "langInMainMenu": true,
   "sourceLang": "es",
   "targetLang": "en",
   "useGoogleTranslate": true
  },
  "toc": {
   "base_numbering": 1,
   "nav_menu": {},
   "number_sections": true,
   "sideBar": true,
   "skip_h1_title": false,
   "title_cell": "Table of Contents",
   "title_sidebar": "Contents",
   "toc_cell": false,
   "toc_position": {},
   "toc_section_display": true,
   "toc_window_display": false
  }
 },
 "nbformat": 4,
 "nbformat_minor": 2
}

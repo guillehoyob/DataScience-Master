{
 "cells": [
  {
   "cell_type": "markdown",
   "metadata": {},
   "source": [
    "<div class=\"title\">Introduction to Non-Linear Models</div>\n",
    "<div class=\"subtitle\">Métodos Avanzados en Aprendizaje Automático</div>\n",
    "<div class=\"author\">Carlos María Alaíz Gudín - Universidad Autónoma de Madrid</div>\n",
    "\n",
    "---"
   ]
  },
  {
   "cell_type": "markdown",
   "metadata": {},
   "source": [
    "**Initial Configuration**"
   ]
  },
  {
   "cell_type": "markdown",
   "metadata": {},
   "source": [
    "This cell defines the configuration of Jupyter Notebooks."
   ]
  },
  {
   "cell_type": "code",
   "execution_count": 1,
   "metadata": {},
   "outputs": [
    {
     "data": {
      "text/html": [
       "<head><link rel=\"stylesheet\" href=\"style.css\"></head>\n"
      ],
      "text/plain": [
       "<IPython.core.display.HTML object>"
      ]
     },
     "metadata": {},
     "output_type": "display_data"
    }
   ],
   "source": [
    "%%html\n",
    "<head><link rel=\"stylesheet\" href=\"style.css\"></head>"
   ]
  },
  {
   "cell_type": "code",
   "execution_count": null,
   "metadata": {},
   "outputs": [],
   "source": [
    "%matplotlib inline\n",
    "%load_ext autoreload\n",
    "%autoreload 2"
   ]
  },
  {
   "cell_type": "markdown",
   "metadata": {},
   "source": [
    "This cell imports the packages to be used (all of them quite standard except for `Utils`, which is provided with the notebook)."
   ]
  },
  {
   "cell_type": "code",
   "execution_count": null,
   "metadata": {},
   "outputs": [],
   "source": [
    "import numpy as np\n",
    "\n",
    "import matplotlib\n",
    "import matplotlib.pyplot as plt\n",
    "from matplotlib.colors import LogNorm\n",
    "\n",
    "from sklearn.linear_model import LinearRegression, LogisticRegression, Ridge\n",
    "from sklearn.kernel_ridge import KernelRidge\n",
    "from sklearn.datasets import make_regression\n",
    "\n",
    "from Utils import plot_dataset, plot_dataset_clas, plot_linear_model, plot_linear_model_clas\n",
    "from Utils import plot_nonlinear_model, plot_nonlinear_model_clas, plot_krr_coefficients\n",
    "from Utils import polynomial_basis, gaussian_basis, sigmoidal_basis\n",
    "\n",
    "matplotlib.rc('figure', figsize=(15, 5))\n",
    "seed = 123"
   ]
  },
  {
   "cell_type": "markdown",
   "metadata": {},
   "source": [
    "# Limitation of Linear Models: Regression"
   ]
  },
  {
   "cell_type": "markdown",
   "metadata": {},
   "source": [
    "## Dataset"
   ]
  },
  {
   "cell_type": "markdown",
   "metadata": {},
   "source": [
    "The cell below defines a 1-dimensional non-linear regression dataset."
   ]
  },
  {
   "cell_type": "code",
   "execution_count": null,
   "metadata": {},
   "outputs": [],
   "source": [
    "n_pat = 100\n",
    "noise = 0.1\n",
    "\n",
    "np.random.seed(seed)\n",
    "\n",
    "x_r = np.linspace(-2, 2, n_pat)\n",
    "y_r = np.square(x_r) + noise * np.random.randn(n_pat)\n",
    "\n",
    "plot_dataset(x_r, y_r)"
   ]
  },
  {
   "cell_type": "markdown",
   "metadata": {},
   "source": [
    "<div class=\"qst\">\n",
    "\n",
    "* Is it possible to tell in advance that it is non-linear using the plot?\n",
    "\n",
    "</div>"
   ]
  },
  {
   "cell_type": "markdown",
   "metadata": {},
   "source": [
    "## Automatic Estimation"
   ]
  },
  {
   "cell_type": "markdown",
   "metadata": {},
   "source": [
    "The cell below trains a linear model over the previous dataset."
   ]
  },
  {
   "cell_type": "code",
   "execution_count": null,
   "metadata": {},
   "outputs": [],
   "source": [
    "model = LinearRegression()\n",
    "model.fit(x_r.reshape(-1, 1), y_r)\n",
    "plot_linear_model(x_r, y_r, model.coef_[0], model.intercept_)"
   ]
  },
  {
   "cell_type": "markdown",
   "metadata": {},
   "source": [
    "<div class=\"qst\">\n",
    "\n",
    "* How does the previous model perform?\n",
    "\n",
    "</div>"
   ]
  },
  {
   "cell_type": "markdown",
   "metadata": {},
   "source": [
    "# Limitation of Linear Models: Classification"
   ]
  },
  {
   "cell_type": "markdown",
   "metadata": {},
   "source": [
    "## Dataset"
   ]
  },
  {
   "cell_type": "markdown",
   "metadata": {},
   "source": [
    "The cell below defines a 2-dimensional non-linear classification dataset."
   ]
  },
  {
   "cell_type": "code",
   "execution_count": null,
   "metadata": {},
   "outputs": [],
   "source": [
    "n_pat = 200\n",
    "noise = 0.1\n",
    "\n",
    "np.random.seed(seed)\n",
    "\n",
    "x_c = np.random.randn(n_pat, 2)\n",
    "y_c = np.ones(n_pat)\n",
    "y_c = np.sign(x_c[:, 0] * x_c[:, 1])\n",
    "\n",
    "plot_dataset_clas(x_c, y_c)"
   ]
  },
  {
   "cell_type": "markdown",
   "metadata": {},
   "source": [
    "<div class=\"qst\">\n",
    "\n",
    "* Is it possible to tell in advance that it is non-linear using the plot?\n",
    "\n",
    "</div>"
   ]
  },
  {
   "cell_type": "markdown",
   "metadata": {},
   "source": [
    "## Automatic Estimation"
   ]
  },
  {
   "cell_type": "markdown",
   "metadata": {},
   "source": [
    "The cell below trains a linear model over the previous dataset."
   ]
  },
  {
   "cell_type": "code",
   "execution_count": null,
   "metadata": {},
   "outputs": [],
   "source": [
    "model = LogisticRegression(solver='lbfgs')\n",
    "model.fit(x_c, y_c)\n",
    "plot_linear_model_clas(x_c, y_c, model.coef_[0], model.intercept_)"
   ]
  },
  {
   "cell_type": "markdown",
   "metadata": {},
   "source": [
    "<div class=\"qst\">\n",
    "\n",
    "* How does the previous model perform?\n",
    "* Does the resultant model look sensible?\n",
    "\n",
    "</div>"
   ]
  },
  {
   "cell_type": "markdown",
   "metadata": {},
   "source": [
    "# Limitation of Linear Models: Not Always Trivial"
   ]
  },
  {
   "cell_type": "markdown",
   "metadata": {},
   "source": [
    "The cell below determines the characteristics of the datasets."
   ]
  },
  {
   "cell_type": "code",
   "execution_count": null,
   "metadata": {},
   "outputs": [],
   "source": [
    "n_samples=30\n",
    "n_features=5"
   ]
  },
  {
   "cell_type": "markdown",
   "metadata": {},
   "source": [
    "## Linear Dataset"
   ]
  },
  {
   "cell_type": "markdown",
   "metadata": {},
   "source": [
    "This code defines a multidimensional regression dataset."
   ]
  },
  {
   "cell_type": "code",
   "execution_count": null,
   "metadata": {},
   "outputs": [],
   "source": [
    "x_rl, y_rl = make_regression(n_samples=n_samples, \\\n",
    "                             n_features=n_features, \\\n",
    "                             n_informative=n_features, \\\n",
    "                             random_state=seed)\n",
    "\n",
    "plot_dataset(x_rl, y_rl)"
   ]
  },
  {
   "cell_type": "markdown",
   "metadata": {},
   "source": [
    "<div class=\"qst\">\n",
    "\n",
    "* Is it linear?\n",
    "* Can this be deduced from the plots?\n",
    "\n",
    "</div>"
   ]
  },
  {
   "cell_type": "markdown",
   "metadata": {},
   "source": [
    "This code trains a linear model."
   ]
  },
  {
   "cell_type": "code",
   "execution_count": null,
   "metadata": {},
   "outputs": [],
   "source": [
    "model = LinearRegression()\n",
    "model.fit(x_rl, y_rl)\n",
    "plot_linear_model(x_rl, y_rl, model.coef_, model.intercept_)"
   ]
  },
  {
   "cell_type": "markdown",
   "metadata": {},
   "source": [
    "<div class=\"qst\">\n",
    "\n",
    "* How does it perform?\n",
    "* Using the performance, is it more easy to tell if the dataset is linear?\n",
    "\n",
    "</div>"
   ]
  },
  {
   "cell_type": "markdown",
   "metadata": {},
   "source": [
    "## Non-Linear Dataset"
   ]
  },
  {
   "cell_type": "markdown",
   "metadata": {},
   "source": [
    "This code defines a multidimensional regression dataset."
   ]
  },
  {
   "cell_type": "code",
   "execution_count": null,
   "metadata": {},
   "outputs": [],
   "source": [
    "np.random.seed(seed)\n",
    "\n",
    "x_rnl = np.random.randn(n_samples, n_features)\n",
    "y_rnl = x_rnl[:, 0]**2 + x_rnl[:, 1] * x_rnl[:, 2]\n",
    "\n",
    "plot_dataset(x_rnl, y_rnl)"
   ]
  },
  {
   "cell_type": "markdown",
   "metadata": {},
   "source": [
    "<div class=\"qst\">\n",
    "\n",
    "* Is it linear?\n",
    "* Can this be deduced from the plots?\n",
    "\n",
    "</div>"
   ]
  },
  {
   "cell_type": "markdown",
   "metadata": {},
   "source": [
    "This code trains a linear model."
   ]
  },
  {
   "cell_type": "code",
   "execution_count": null,
   "metadata": {},
   "outputs": [],
   "source": [
    "model = LinearRegression()\n",
    "model.fit(x_rnl, y_rnl)\n",
    "plot_linear_model(x_rnl, y_rnl, model.coef_, model.intercept_)"
   ]
  },
  {
   "cell_type": "markdown",
   "metadata": {},
   "source": [
    "<div class=\"qst\">\n",
    "\n",
    "* How does it perform?\n",
    "* Using the performance, is it more easy to tell if the dataset is linear?\n",
    "\n",
    "</div>"
   ]
  },
  {
   "cell_type": "markdown",
   "metadata": {},
   "source": [
    "# Generalized Linear Models - Feature Construction"
   ]
  },
  {
   "cell_type": "markdown",
   "metadata": {},
   "source": [
    "## Regression"
   ]
  },
  {
   "cell_type": "markdown",
   "metadata": {},
   "source": [
    "With the code below, the original input can be transformed into a new feature to build a Generalized Linear Model for the regression problem."
   ]
  },
  {
   "cell_type": "code",
   "execution_count": null,
   "metadata": {
    "scrolled": true
   },
   "outputs": [],
   "source": [
    "def phi(x):\n",
    "    ########################################\n",
    "    # A new synthetic feature can be defined here, by default it does not transform the input.\n",
    "    x_n = x\n",
    "    ########################################\n",
    "    return x_n.reshape(x.shape[0], -1)\n",
    "\n",
    "model = LinearRegression()\n",
    "model.fit(phi(x_r), y_r)\n",
    "plot_nonlinear_model(x_r, y_r, model, phi)"
   ]
  },
  {
   "cell_type": "markdown",
   "metadata": {},
   "source": [
    "<div class=\"qst\">\n",
    "\n",
    "* Try with different mappings, like $\\phi(x) = x$, $\\phi(x) = x^2$, and $\\phi(x) = x^3$.\n",
    "* Which one works best?\n",
    "\n",
    "</div>"
   ]
  },
  {
   "cell_type": "markdown",
   "metadata": {},
   "source": [
    "## Classification"
   ]
  },
  {
   "cell_type": "markdown",
   "metadata": {},
   "source": [
    "With the code below, the original inputs can be transformed into new features to build a Generalized Linear Model for the classification problem."
   ]
  },
  {
   "cell_type": "code",
   "execution_count": null,
   "metadata": {},
   "outputs": [],
   "source": [
    "def phi(x):\n",
    "    ########################################\n",
    "    # A new synthetic feature can be defined here, by default it does not transform the input.\n",
    "    x_n = x\n",
    "    ########################################\n",
    "    return x_n.reshape(x.shape[0], -1)\n",
    "\n",
    "model = LogisticRegression(solver='lbfgs')\n",
    "model.fit(phi(x_c), y_c)\n",
    "plot_nonlinear_model_clas(x_c, y_c, model, phi)"
   ]
  },
  {
   "cell_type": "markdown",
   "metadata": {},
   "source": [
    "<div class=\"qst\">\n",
    "\n",
    "* Try with different mappings, like $\\boldsymbol{\\phi}(\\mathbf{x}) = \\mathbf{x}$, $\\boldsymbol{\\phi}(x) = (x_1^2, x_2^2)$, $\\boldsymbol{\\phi}(\\mathbf{x}) = (x_1 + x_2)^2$, and $\\boldsymbol{\\phi}(x) = x_1 x_2$.\n",
    "* Which one works best?\n",
    "\n",
    "</div>"
   ]
  },
  {
   "cell_type": "markdown",
   "metadata": {},
   "source": [
    "# Generalized Linear Models - Sets of Basis Functions"
   ]
  },
  {
   "cell_type": "markdown",
   "metadata": {},
   "source": [
    "## Dataset"
   ]
  },
  {
   "cell_type": "markdown",
   "metadata": {},
   "source": [
    "This cell defines a new one-dimensional regression dataset, which is again non-linear."
   ]
  },
  {
   "cell_type": "code",
   "execution_count": null,
   "metadata": {},
   "outputs": [],
   "source": [
    "n_pat = 100\n",
    "noise = 0.2\n",
    "\n",
    "np.random.seed(seed)\n",
    "\n",
    "x_r = np.linspace(-2, 2, n_pat)\n",
    "y_r = np.square(x_r) + np.sin(5 * x_r) + noise * np.random.randn(n_pat)\n",
    "\n",
    "plot_dataset(x_r, y_r)"
   ]
  },
  {
   "cell_type": "markdown",
   "metadata": {},
   "source": [
    "<div class=\"qst\">\n",
    "\n",
    "* Is it easy to define now by hand an additional feature to make the problem affordable? Why?\n",
    "\n",
    "</div>"
   ]
  },
  {
   "cell_type": "markdown",
   "metadata": {},
   "source": [
    "## Polynomial Basis"
   ]
  },
  {
   "cell_type": "markdown",
   "metadata": {},
   "source": [
    "The cell below expands the dataset using a polynomial basis. The degree $M$ is determined by the variable `deg`."
   ]
  },
  {
   "cell_type": "code",
   "execution_count": null,
   "metadata": {},
   "outputs": [],
   "source": [
    "deg = 1\n",
    "def phi(x):\n",
    "    return polynomial_basis(x, deg)\n",
    "\n",
    "model = LinearRegression()\n",
    "model.fit(phi(x_r), y_r)\n",
    "plot_nonlinear_model(x_r, y_r, model, phi)"
   ]
  },
  {
   "cell_type": "markdown",
   "metadata": {},
   "source": [
    "<div class=\"qst\">\n",
    "\n",
    "* Try different values for the degree, like $M = 1$, $M = 5$, $M = 10$ and $M = 40$.\n",
    "* Which one works best?\n",
    "* Can you appreciate any over-fitting or under-fitting, depending on the value of $M$?\n",
    "\n",
    "</div>"
   ]
  },
  {
   "cell_type": "markdown",
   "metadata": {},
   "source": [
    "## Guassian Basis"
   ]
  },
  {
   "cell_type": "markdown",
   "metadata": {},
   "source": [
    "The cell below expands the dataset using a Gaussian basis. The number of Gaussians $D$ is determined by the variable `n_partitions`, the centres of the Gaussians are equispaced over all the interval, and their widths $\\sigma_i$ are determined by the variable `sigma`."
   ]
  },
  {
   "cell_type": "code",
   "execution_count": null,
   "metadata": {},
   "outputs": [],
   "source": [
    "n_partitions = 2\n",
    "sigma = 1\n",
    "def phi(x):\n",
    "    mu = np.linspace(-2, 2, n_partitions)\n",
    "    return gaussian_basis(x, mu, sigma)\n",
    "\n",
    "model = LinearRegression()\n",
    "model.fit(phi(x_r), y_r)\n",
    "plot_nonlinear_model(x_r, y_r, model, phi)"
   ]
  },
  {
   "cell_type": "markdown",
   "metadata": {},
   "source": [
    "<div class=\"qst\">\n",
    "\n",
    "* Try different combinations of the number of functions and their width, like $(D = 2, \\sigma = 1)$, $(D = 10, \\sigma = 1)$ and $(D = 100, \\sigma = 0.1)$.\n",
    "* Which one works best?\n",
    "* Can you appreciate any over-fitting or under-fitting, depending on the configuration of the basis?\n",
    "\n",
    "</div>"
   ]
  },
  {
   "cell_type": "markdown",
   "metadata": {},
   "source": [
    "## Sigmoidal Basis"
   ]
  },
  {
   "cell_type": "markdown",
   "metadata": {},
   "source": [
    "The cell below expands the dataset using a sigmoidal basis. The number of sigmoids $D$ is determined by the variable `n_partitions`, the centres of the sigmoids are equispaced over all the interval, and their widths $a_i$ are determined by the variable `a`."
   ]
  },
  {
   "cell_type": "code",
   "execution_count": null,
   "metadata": {},
   "outputs": [],
   "source": [
    "n_partitions = 2\n",
    "a = 1\n",
    "def phi(x):\n",
    "    b = np.linspace(-2, 2, n_partitions)\n",
    "    return sigmoidal_basis(x, a, b)\n",
    "\n",
    "model = LinearRegression()\n",
    "model.fit(phi(x_r), y_r)\n",
    "plot_nonlinear_model(x_r, y_r, model, phi)"
   ]
  },
  {
   "cell_type": "markdown",
   "metadata": {},
   "source": [
    "<div class=\"qst\">\n",
    "\n",
    "* Try different combinations of the number of functions and their width, like $(D = 2, a = 1)$, $(D = 10, a = 1)$ and $(D = 100, a = 0.1)$.\n",
    "* Which one works best?\n",
    "* Can you appreciate any over-fitting or under-fitting, depending on the configuration of the basis?\n",
    "\n",
    "</div>"
   ]
  },
  {
   "cell_type": "markdown",
   "metadata": {},
   "source": [
    "# Kernel Ridge Regression"
   ]
  },
  {
   "cell_type": "markdown",
   "metadata": {},
   "source": [
    "## Ridge Regression vs. Kernel Ridge Regression"
   ]
  },
  {
   "cell_type": "markdown",
   "metadata": {},
   "source": [
    "The following cells train a Ridge Regression model and a Kernel Ridge Regression model with linear kernel, printing the optimum primal coefficient $w$."
   ]
  },
  {
   "cell_type": "code",
   "execution_count": null,
   "metadata": {},
   "outputs": [],
   "source": [
    "model = Ridge(fit_intercept=False)\n",
    "model.fit(np.reshape(x_r, (-1, 1)), y_r)\n",
    "\n",
    "plot_nonlinear_model(x_r, y_r, model)\n",
    "plt.show()\n",
    "\n",
    "w = model.coef_\n",
    "print('Coefficient: %.4f' % w)"
   ]
  },
  {
   "cell_type": "code",
   "execution_count": null,
   "metadata": {},
   "outputs": [],
   "source": [
    "model = KernelRidge(kernel='linear')\n",
    "model.fit(np.reshape(x_r, (-1, 1)), y_r)\n",
    "\n",
    "plot_nonlinear_model(x_r, y_r, model)\n",
    "plt.show()\n",
    "\n",
    "plot_krr_coefficients(model)\n",
    "plt.show()\n",
    "\n",
    "# dual_coef_ contains the values of alpha, and X_fit_ the training patterns.\n",
    "w = (model.dual_coef_ @ model.X_fit_)[0]\n",
    "print('Primal Coefficient: %.4f' % w)"
   ]
  },
  {
   "cell_type": "markdown",
   "metadata": {},
   "source": [
    "<div class=\"qst\">\n",
    "\n",
    "* Are these two models equivalent?\n",
    "* How is the hyper-plane recovered from the dual coefficients? Does it match the theory?\n",
    "\n",
    "</div>"
   ]
  },
  {
   "cell_type": "markdown",
   "metadata": {},
   "source": [
    "## Polynomial Kernel"
   ]
  },
  {
   "cell_type": "markdown",
   "metadata": {},
   "source": [
    "A Kernel Ridge Regression model with polynomial kernel can be trained with the cell below."
   ]
  },
  {
   "cell_type": "code",
   "execution_count": null,
   "metadata": {},
   "outputs": [],
   "source": [
    "model = KernelRidge(kernel='polynomial', degree=1, alpha=1e-2)\n",
    "model.fit(np.reshape(x_r, (-1, 1)), y_r)\n",
    "\n",
    "plot_nonlinear_model(x_r, y_r, model)"
   ]
  },
  {
   "cell_type": "markdown",
   "metadata": {},
   "source": [
    "<div class=\"qst\">\n",
    "\n",
    "* Try different values of the degree (variable `degree`), like $1$, $5$, $10$ and $30$.\n",
    "* What is the influence of the degree?\n",
    "\n",
    "</div>"
   ]
  },
  {
   "cell_type": "markdown",
   "metadata": {},
   "source": [
    "## RBF Kernel"
   ]
  },
  {
   "cell_type": "markdown",
   "metadata": {},
   "source": [
    "A Kernel Ridge Regression model with RBF kernel can be trained with the cell below."
   ]
  },
  {
   "cell_type": "code",
   "execution_count": null,
   "metadata": {},
   "outputs": [],
   "source": [
    "model = KernelRidge(kernel='rbf', gamma=1e-3, alpha=1e-2)\n",
    "model.fit(np.reshape(x_r, (-1, 1)), y_r)\n",
    "\n",
    "plot_nonlinear_model(x_r, y_r, model)"
   ]
  },
  {
   "cell_type": "markdown",
   "metadata": {},
   "source": [
    "<div class=\"qst\">\n",
    "\n",
    "* Try different values of the kernel parameter (variable `gamma`, the inverse of the Gaussian width), like $10^{-3}$, $10^{0}$, and like $10^{3}$.\n",
    "* What is the influence of this parameter?\n",
    "\n",
    "</div>"
   ]
  }
 ],
 "metadata": {
  "@webio": {
   "lastCommId": null,
   "lastKernelId": null
  },
  "kernelspec": {
   "display_name": "Python 3 (ipykernel)",
   "language": "python",
   "name": "python3"
  },
  "language_info": {
   "codemirror_mode": {
    "name": "ipython",
    "version": 3
   },
   "file_extension": ".py",
   "mimetype": "text/x-python",
   "name": "python",
   "nbconvert_exporter": "python",
   "pygments_lexer": "ipython3",
   "version": "3.8.5"
  },
  "toc": {
   "base_numbering": 1,
   "nav_menu": {},
   "number_sections": true,
   "sideBar": true,
   "skip_h1_title": false,
   "title_cell": "Table of Contents",
   "title_sidebar": "Contents",
   "toc_cell": false,
   "toc_position": {
    "height": "calc(100% - 180px)",
    "left": "10px",
    "top": "150px",
    "width": "361.167px"
   },
   "toc_section_display": true,
   "toc_window_display": false
  }
 },
 "nbformat": 4,
 "nbformat_minor": 2
}

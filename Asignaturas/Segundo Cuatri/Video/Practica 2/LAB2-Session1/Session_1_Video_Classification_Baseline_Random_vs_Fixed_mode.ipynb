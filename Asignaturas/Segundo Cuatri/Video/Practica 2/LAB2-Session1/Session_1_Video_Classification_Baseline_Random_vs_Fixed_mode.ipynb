{
  "nbformat": 4,
  "nbformat_minor": 0,
  "metadata": {
    "colab": {
      "name": "Session 1 Video Classification Baseline Random vs Fixed mode.ipynb",
      "provenance": []
    },
    "kernelspec": {
      "name": "python3",
      "display_name": "Python 3"
    }
  },
  "cells": [
    {
      "cell_type": "code",
      "metadata": {
        "id": "TVeyWHx_HUG5"
      },
      "source": [
        "from google.colab import drive\n",
        "drive.mount('/content/drive')"
      ],
      "execution_count": null,
      "outputs": []
    },
    {
      "cell_type": "code",
      "metadata": {
        "id": "4IAeCNOC2GAq"
      },
      "source": [
        "import sys\n",
        "sys.path.append('/content/drive/My Drive/Colab Notebooks/LAB2-Session1')"
      ],
      "execution_count": 4,
      "outputs": []
    },
    {
      "cell_type": "code",
      "metadata": {
        "id": "4TZ7VVvY97GL"
      },
      "source": [
        "%cd /content/drive/My Drive/Colab Notebooks/LAB2-Session1/data"
      ],
      "execution_count": null,
      "outputs": []
    },
    {
      "cell_type": "code",
      "metadata": {
        "id": "ODqYSE5ofI7L"
      },
      "source": [
        "!unzip -j UCF5.zip"
      ],
      "execution_count": null,
      "outputs": []
    },
    {
      "cell_type": "code",
      "metadata": {
        "id": "UtNjG9Bq729w"
      },
      "source": [
        "!python3 '1_move_files.py'"
      ],
      "execution_count": null,
      "outputs": []
    },
    {
      "cell_type": "code",
      "metadata": {
        "id": "v8pvDjBA-mAX"
      },
      "source": [
        "!python3 '2_extract_files.py'"
      ],
      "execution_count": null,
      "outputs": []
    },
    {
      "cell_type": "code",
      "metadata": {
        "id": "PiwVvVvOAZbc"
      },
      "source": [
        "%cd /content/drive/My Drive/Colab Notebooks/LAB2-Session1"
      ],
      "execution_count": null,
      "outputs": []
    },
    {
      "cell_type": "code",
      "metadata": {
        "id": "LsL8Bt8oAdTf"
      },
      "source": [
        "!python3 'random_vs_fixed_mode.py'"
      ],
      "execution_count": null,
      "outputs": []
    },
    {
      "cell_type": "markdown",
      "metadata": {
        "id": "Nrt39U_I7Ze5"
      },
      "source": [
        ""
      ]
    }
  ]
}